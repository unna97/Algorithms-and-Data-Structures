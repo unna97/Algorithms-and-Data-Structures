{
 "cells": [
  {
   "cell_type": "markdown",
   "metadata": {},
   "source": [
    "# LinkedList: Data Structure\n",
    "\n",
    "- toc: true \n",
    "- badges: true\n",
    "- comments: true\n",
    "- author: Unnati Patel\n",
    "- categories: [linkedlist, jupyter ,data structure,work in progress]"
   ]
  },
  {
   "cell_type": "markdown",
   "metadata": {},
   "source": [
    "\n",
    "Important points:\n",
    "- Remembers the sequence of the storage without having to store it in sequentially in memory\n",
    "- Theoritically traversing through array and Linkedlist requires same time but in practically array is faster\n",
    "    why?\n",
    "    -No caching with Linkedlist\n",
    "- Dyanmic Size\n",
    "    -good for insertion and deletion\n",
    " "
   ]
  },
  {
   "cell_type": "code",
   "execution_count": 1,
   "metadata": {},
   "outputs": [],
   "source": [
    "class Node:\n",
    "    def __init__(self, data, nextNode = None):\n",
    "        self.data = data\n",
    "        self.next = nextNode"
   ]
  },
  {
   "cell_type": "code",
   "execution_count": 11,
   "metadata": {},
   "outputs": [],
   "source": [
    "class LinkedList():\n",
    "    \n",
    "    def __init__(self, node):\n",
    "        self.head = node\n",
    "    \n",
    "    def add_node(self, node):\n",
    "        \n",
    "        temp = self.head\n",
    "        \n",
    "        while temp.next:\n",
    "            temp = temp.next\n",
    "        \n",
    "        temp.next = node\n",
    "    \n",
    "    def print_list(self):\n",
    "        \n",
    "        temp = self.head\n",
    "        \n",
    "        while temp:\n",
    "            print(temp.data)\n",
    "            temp = temp.next\n"
   ]
  },
  {
   "cell_type": "code",
   "execution_count": 12,
   "metadata": {},
   "outputs": [],
   "source": [
    "a = Node(10)"
   ]
  },
  {
   "cell_type": "code",
   "execution_count": 13,
   "metadata": {},
   "outputs": [],
   "source": [
    "A = LinkedList(a)"
   ]
  },
  {
   "cell_type": "code",
   "execution_count": 15,
   "metadata": {},
   "outputs": [],
   "source": [
    "b = Node(20)"
   ]
  },
  {
   "cell_type": "code",
   "execution_count": 16,
   "metadata": {},
   "outputs": [],
   "source": [
    "A.add_node(b)"
   ]
  }
 ],
 "metadata": {
  "kernelspec": {
   "display_name": "Python 3",
   "language": "python",
   "name": "python3"
  },
  "language_info": {
   "codemirror_mode": {
    "name": "ipython",
    "version": 3
   },
   "file_extension": ".py",
   "mimetype": "text/x-python",
   "name": "python",
   "nbconvert_exporter": "python",
   "pygments_lexer": "ipython3",
   "version": "3.7.6"
  }
 },
 "nbformat": 4,
 "nbformat_minor": 4
}
